{
 "cells": [
  {
   "cell_type": "markdown",
   "metadata": {},
   "source": [
    "## Library and data imports##"
   ]
  },
  {
   "cell_type": "code",
   "execution_count": 1,
   "metadata": {},
   "outputs": [],
   "source": [
    "from sklearn.feature_extraction.text import CountVectorizer\n",
    "from sklearn.feature_extraction.text import TfidfTransformer\n",
    "import pandas as pd\n",
    "import numpy as np\n",
    "from sklearn.linear_model import SGDClassifier\n",
    "from sklearn.model_selection import train_test_split\n",
    "from sklearn.metrics import accuracy_score\n",
    "\n",
    "# reads in all reviews\n",
    "df = pd.read_csv('data.csv')\n",
    "reviews = df['review']\n",
    "y_pre = df['voted_up']\n"
   ]
  },
  {
   "cell_type": "markdown",
   "metadata": {},
   "source": [
    "## Dealing with imbalanced data ##\n",
    "This would be where we deal with the fact that most of the reviews are positive and will probably do subsampling"
   ]
  },
  {
   "cell_type": "code",
   "execution_count": 2,
   "metadata": {},
   "outputs": [
    {
     "name": "stdout",
     "output_type": "stream",
     "text": [
      "0.33547876680154604\n",
      "40708\n",
      "81416\n"
     ]
    }
   ],
   "source": [
    "from random import sample\n",
    "\n",
    "# subsamples data so that the ratio of upvotes vs downvotes is 1:1\n",
    "\n",
    "up = df[df['voted_up'] == True]\n",
    "down = df[df['voted_up'] == False]\n",
    "print(len(down)/len(up))\n",
    "\n",
    "df_sub = down\n",
    "df_sub = pd.concat([df_sub, (up.sample(n=len(down)))])\n",
    "\n",
    "print(len(down))\n",
    "print(len(df_sub))"
   ]
  },
  {
   "cell_type": "code",
   "execution_count": 3,
   "metadata": {},
   "outputs": [],
   "source": [
    "reviews = np.array(df_sub['review'])\n",
    "y_pre = np.array(df_sub['voted_up'])"
   ]
  },
  {
   "cell_type": "markdown",
   "metadata": {},
   "source": [
    "## Tokenization ##\n",
    "Can cover the following hyperparameters (and their tuning):\n",
    "- How do we deal with contractions?\n",
    "- What kind of normalization do we do? (convert accents to ascii? stemming? lemmatization?)\n",
    "- Do we use stopwords? Which ones?\n",
    "- Other CountVectorizer hyperparams\n",
    "- How do we handle punctuation?  \n",
    "- How much should we subsample? (Need to determine performance metric first)"
   ]
  },
  {
   "cell_type": "code",
   "execution_count": null,
   "metadata": {},
   "outputs": [],
   "source": [
    "# preprocessing so the model can understand the reviews\n",
    "pp_reviews = []\n",
    "y = []\n",
    "\n",
    "# filters out reviews with non-ascii characters -- we get an error if we don't include this\n",
    "for i in range(0, len(reviews)-1):\n",
    "    if str(reviews[i]).isascii():\n",
    "        pp_reviews.append(str(reviews[i]))\n",
    "        y.append(y_pre[i])"
   ]
  },
  {
   "cell_type": "code",
   "execution_count": 5,
   "metadata": {},
   "outputs": [],
   "source": [
    "from sklearn.svm import LinearSVC\n",
    "\n",
    "# LinearSVC is the best performing model we tested (results towards the bottom of this notebook)\n",
    "\n",
    "# Used to optimize preprocessing configuration. Gets testing accuracy with the optimal LinearSVC hyperparameters\n",
    "def get_testing_accuracy(X, y):\n",
    "    X_train, X_test, y_train, y_test = train_test_split(X, y, test_size=0.2, random_state=42)\n",
    "\n",
    "    clf = LinearSVC(random_state=42, dual='auto', max_iter=1000, C=1)\n",
    "    clf.fit(X_train, y_train)\n",
    "    y_pred = clf.predict(X_test)\n",
    "    return accuracy_score(y_test, y_pred)"
   ]
  },
  {
   "cell_type": "code",
   "execution_count": 6,
   "metadata": {},
   "outputs": [],
   "source": [
    "def do_vectorization_transformation(count_vect, X):\n",
    "    # tokenizes the reviews\n",
    "    X_train_counts = count_vect.fit_transform(np.array(X))\n",
    "\n",
    "    # transforms them so we deal with term frequencies rather than term counts\n",
    "    tfidf_transformer = TfidfTransformer()\n",
    "    X = tfidf_transformer.fit_transform(X_train_counts)\n",
    "    return X"
   ]
  },
  {
   "cell_type": "code",
   "execution_count": 7,
   "metadata": {},
   "outputs": [
    {
     "name": "stdout",
     "output_type": "stream",
     "text": [
      "baseline: 0.8534912314760887\n"
     ]
    }
   ],
   "source": [
    "# configuring hyperparameters for the count vectorizer\n",
    "\n",
    "# baseline accuracy -- no preprocessing tuning\n",
    "count_vect = CountVectorizer()\n",
    "X = do_vectorization_transformation(count_vect, pp_reviews)\n",
    "print(\"baseline: \" + str(get_testing_accuracy(X, y)))"
   ]
  },
  {
   "cell_type": "code",
   "execution_count": 7,
   "metadata": {},
   "outputs": [
    {
     "name": "stdout",
     "output_type": "stream",
     "text": [
      "min_df: 0.0, max_df: 0.1: 0.8384630337588285\n",
      "min_df: 0.0, max_df: 0.2: 0.8509039072118189\n",
      "min_df: 0.0, max_df: 0.3: 0.8516166655867298\n",
      "min_df: 0.0, max_df: 0.4: 0.8573835288019179\n",
      "min_df: 0.0, max_df: 0.5: 0.857318732586017\n",
      "min_df: 0.0, max_df: 0.6: 0.8575131212337199\n",
      "min_df: 0.0, max_df: 0.7: 0.8573835288019179\n",
      "min_df: 0.0, max_df: 0.8: 0.8573835288019179\n",
      "min_df: 0.0, max_df: 0.9: 0.8573835288019179\n",
      "min_df: 0.0, max_df: 1.0: 0.8573835288019179\n",
      "min_df: 0.1, max_df: 0.2: 0.6668826540530033\n",
      "min_df: 0.1, max_df: 0.3: 0.6799066934491026\n",
      "min_df: 0.1, max_df: 0.4: 0.6970776906628653\n",
      "min_df: 0.1, max_df: 0.5: 0.6978552452536771\n",
      "min_df: 0.1, max_df: 0.6: 0.6977904490377762\n",
      "min_df: 0.1, max_df: 0.7: 0.6971424868787662\n",
      "min_df: 0.1, max_df: 0.8: 0.6971424868787662\n",
      "min_df: 0.1, max_df: 0.9: 0.6971424868787662\n",
      "min_df: 0.1, max_df: 1.0: 0.6971424868787662\n",
      "min_df: 0.2, max_df: 0.3: 0.6036415473336357\n",
      "min_df: 0.2, max_df: 0.4: 0.6381779304088642\n",
      "min_df: 0.2, max_df: 0.5: 0.6397978358063889\n",
      "min_df: 0.2, max_df: 0.6: 0.6409641676926068\n",
      "min_df: 0.2, max_df: 0.7: 0.6421304995788246\n",
      "min_df: 0.2, max_df: 0.8: 0.6421304995788246\n",
      "min_df: 0.2, max_df: 0.9: 0.6421304995788246\n",
      "min_df: 0.2, max_df: 1.0: 0.6421304995788246\n",
      "min_df: 0.3, max_df: 0.4: 0.6212661180587054\n",
      "min_df: 0.3, max_df: 0.5: 0.6210717294110024\n",
      "min_df: 0.3, max_df: 0.6: 0.623857966694745\n",
      "min_df: 0.3, max_df: 0.7: 0.6255426683081708\n",
      "min_df: 0.3, max_df: 0.8: 0.6255426683081708\n",
      "min_df: 0.3, max_df: 0.9: 0.6255426683081708\n",
      "min_df: 0.3, max_df: 1.0: 0.6255426683081708\n"
     ]
    }
   ],
   "source": [
    "# configuring max_df/min_df (min/max frequencies for adding new stopwords based on this specific dataset)\n",
    "for min_df in np.arange(0, 1.1, 0.1):\n",
    "    for max_df in np.arange(0, 1.1, 0.1):\n",
    "        try:\n",
    "            count_vect = CountVectorizer(min_df=min_df, max_df=max_df)\n",
    "            X = do_vectorization_transformation(count_vect, pp_reviews)\n",
    "            print(\"min_df: \" + str(round(min_df,2)) + \", max_df: \" + str(round(max_df,2)) + \": \" + str(get_testing_accuracy(X, y)))\n",
    "        except:\n",
    "            pass"
   ]
  },
  {
   "cell_type": "markdown",
   "metadata": {},
   "source": [
    "With all other factors equal, the best min_df/max_df combination was 0.0, 0.4 with testing accuracy of 0.8574 when using an SVC"
   ]
  },
  {
   "cell_type": "code",
   "execution_count": 8,
   "metadata": {},
   "outputs": [
    {
     "name": "stdout",
     "output_type": "stream",
     "text": [
      "with stopwords: 0.8408604937471652\n"
     ]
    }
   ],
   "source": [
    "# with/without stopwords\n",
    "# taken from NLTK stopword set, stripped of punctuation\n",
    "stopwords = ['i', 'me', 'my', 'myself', 'we', 'our', 'ours', 'ourselves', 'you', 'youre', 'youve', 'youll', 'youd', 'your', 'yours', 'yourself', 'yourselves', 'he', 'him', 'his', 'himself', 'she', 'shes', 'her', 'hers', 'herself', 'it', 'its', 'its', 'itself', 'they', 'them', 'their', 'theirs', 'themselves', 'what', 'which', 'who', 'whom', 'this', 'that', 'thatll', 'these', 'those', 'am', 'is', 'are', 'was', 'were', 'be', 'been', 'being', 'have', 'has', 'had', 'having', 'do', 'does', 'did', 'doing', 'a', 'an', 'the', 'and', 'but', 'if', 'or', 'because', 'as', 'until', 'while', 'of', 'at', 'by', 'for', 'with', 'about', 'against', 'between', 'into', 'through', 'during', 'before', 'after', 'above', 'below', 'to', 'from', 'up', 'down', 'in', 'out', 'on', 'off', 'over', 'under', 'again', 'further', 'then', 'once', 'here', 'there', 'when', 'where', 'why', 'how', 'all', 'any', 'both', 'each', 'few', 'more', 'most', 'other', 'some', 'such', 'no', 'nor', 'not', 'only', 'own', 'same', 'so', 'than', 'too', 'very', 's', 't', 'can', 'will', 'just', 'don', 'dont', 'should', 'shouldve', 'now', 'd', 'll', 'm', 'o', 're', 've', 'y', 'ain', 'aren', 'arent', 'couldn', 'couldnt', 'didn', 'didnt', 'doesn', 'doesnt', 'hadn', 'hadnt', 'hasn', 'hasnt', 'haven', 'havent', 'isn', 'isnt', 'ma', 'mightn', 'mightnt', 'mustn', 'mustnt', 'needn', 'neednt', 'shan', 'shant', 'shouldn', 'shouldnt', 'wasn', 'wasnt', 'weren', 'werent', 'won', 'wont', 'wouldn', 'wouldnt']\n",
    "count_vect = CountVectorizer(stop_words=stopwords)\n",
    "X = do_vectorization_transformation(count_vect, pp_reviews)\n",
    "print(\"with stopwords: \" + str(get_testing_accuracy(X, y)))"
   ]
  },
  {
   "cell_type": "markdown",
   "metadata": {},
   "source": [
    "The testing performance with stopwords was slightly actually worse than without, with an decrease in performance of of 0.016"
   ]
  },
  {
   "cell_type": "code",
   "execution_count": null,
   "metadata": {},
   "outputs": [
    {
     "name": "stdout",
     "output_type": "stream",
     "text": [
      "min_df: 1, max_df: 1: 0.8573835288019179\n",
      "min_df: 1, max_df: 2: 0.8834316075941165\n",
      "min_df: 1, max_df: 3: 0.8820060908442947\n",
      "min_df: 1, max_df: 4: 0.8784422989697401\n",
      "min_df: 1, max_df: 5: 0.8746193222315817\n",
      "min_df: 1, max_df: 6: 0.872675435754552\n",
      "min_df: 1, max_df: 7: 0.8706667530616212\n",
      "min_df: 1, max_df: 8: 0.8696948098231063\n",
      "min_df: 1, max_df: 9: 0.8681397006414825\n"
     ]
    }
   ],
   "source": [
    "# n-gram values (min and max length of phrases to use as features)\n",
    "# Ex. \"game not good\" with min_n=1, max_n=3 would tokenize into [\"game\", \"not\", \"good\", \"game not\", \"not good\", \"game not good\"]\n",
    "for min_n in np.arange(1, 11):\n",
    "    for max_n in np.arange(min_n, 11):\n",
    "        try:\n",
    "            count_vect = CountVectorizer(ngram_range=(min_n, max_n))\n",
    "            X = do_vectorization_transformation(count_vect, pp_reviews)\n",
    "            print(\"min_df: \" + str(min_n) + \", max_df: \" + str(max_n) + \": \" + str(get_testing_accuracy(X, y)))\n",
    "        except:\n",
    "            pass"
   ]
  },
  {
   "cell_type": "raw",
   "metadata": {},
   "source": [
    "min_df: 1, max_df: 1: 0.8566984250437488\n",
    "min_df: 1, max_df: 2: 0.8845680212586687\n",
    "min_df: 1, max_df: 3: 0.8821051267094433\n",
    "min_df: 1, max_df: 4: 0.8806792403914706\n",
    "min_df: 1, max_df: 5: 0.8767904595242725\n",
    "min_df: 1, max_df: 6: 0.8751053211484866\n",
    "min_df: 1, max_df: 7: 0.8714109793246484\n",
    "min_df: 1, max_df: 8: 0.870244345064489\n",
    "min_df: 1, max_df: 9: 0.8690777108043295\n",
    "min_df: 2, max_df: 2: 0.8579854809437386\n",
    "min_df: 2, max_df: 3: 0.8544205340938553\n",
    "min_df: 2, max_df: 4: 0.8495592429349235\n",
    "min_df: 2, max_df: 5: 0.8443738656987296\n",
    "min_df: 2, max_df: 6: 0.8411330049261084\n",
    "min_df: 2, max_df: 7: 0.8376328752916775\n",
    "min_df: 2, max_df: 8: 0.8338086595799844\n",
    "min_df: 2, max_df: 9: 0.8310215193155303\n",
    "min_df: 3, max_df: 3: 0.7969276639875551\n",
    "min_df: 3, max_df: 4: 0.7836401348198081\n",
    "min_df: 3, max_df: 5: 0.7738527352864921\n",
    "min_df: 3, max_df: 6: 0.765426497277677\n",
    "min_df: 3, max_df: 7: 0.7605652061187451\n",
    "min_df: 3, max_df: 8: 0.7545372050816697\n",
    "min_df: 3, max_df: 9: 0.7511018926626912\n",
    "min_df: 3, max_df: 10: 0.7476665802437127\n",
    "min_df: 4, max_df: 4: 0.715322789732953\n",
    "min_df: 4, max_df: 5: 0.6926367643246046\n",
    "min_df: 4, max_df: 6: 0.6739045890588541\n",
    "min_df: 4, max_df: 7: 0.6566632097485092\n",
    "min_df: 4, max_df: 8: 0.6418848846253565\n",
    "min_df: 4, max_df: 9: 0.6309307752138968\n",
    "min_df: 4, max_df: 10: 0.6215970961887477\n",
    "min_df: 5, max_df: 5: 0.5907441016333939\n",
    "min_df: 5, max_df: 6: 0.5626782473424942\n",
    "min_df: 5, max_df: 7: 0.5462794918330308\n",
    "min_df: 5, max_df: 8: 0.5359735545760954\n",
    "min_df: 5, max_df: 9: 0.5303344568317345\n",
    "min_df: 5, max_df: 10: 0.5263157894736842\n",
    "min_df: 6, max_df: 6: 0.5217137671765621\n",
    "min_df: 6, max_df: 7: 0.5152968628467721\n",
    "min_df: 6, max_df: 8: 0.5111485610578169\n",
    "min_df: 6, max_df: 9: 0.5090744101633394\n",
    "min_df: 6, max_df: 10: 0.5077132486388385\n",
    "min_df: 7, max_df: 7: 0.506870624837957\n",
    "min_df: 7, max_df: 8: 0.505509463313456\n",
    "min_df: 7, max_df: 9: 0.5044075706507648\n",
    "min_df: 7, max_df: 10: 0.50427793621986\n",
    "min_df: 8, max_df: 8: 0.5036945812807881\n",
    "min_df: 8, max_df: 9: 0.5034353124189784\n",
    "min_df: 8, max_df: 10: 0.5033704952035261\n",
    "min_df: 9, max_df: 9: 0.5027223230490018\n",
    "min_df: 9, max_df: 10: 0.5026575058335494\n",
    "min_df: 10, max_df: 10: 0.5023334197562873"
   ]
  },
  {
   "cell_type": "markdown",
   "metadata": {},
   "source": [
    "With all other factors equal, the best n-gram combination was (1, 2) with a testing accuracy of 0.8834 when using an SVM"
   ]
  },
  {
   "cell_type": "code",
   "execution_count": 10,
   "metadata": {},
   "outputs": [
    {
     "name": "stdout",
     "output_type": "stream",
     "text": [
      "training accuracy with optimal configuration with each individual preprocessing hyperparameter: 0.995906744972415\n"
     ]
    },
    {
     "data": {
      "image/png": "[encoded data removed]",
      "text/plain": [
       "<Figure size 640x480 with 2 Axes>"
      ]
     },
     "metadata": {},
     "output_type": "display_data"
    },
    {
     "name": "stdout",
     "output_type": "stream",
     "text": [
      "testing accuracy with optimal configuration with each individual preprocessing hyperparameter: 0.881576392933411\n"
     ]
    },
    {
     "data": {
      "image/png": "[encoded data removed]",
      "text/plain": [
       "<Figure size 640x480 with 2 Axes>"
      ]
     },
     "metadata": {},
     "output_type": "display_data"
    }
   ],
   "source": [
    "from sklearn.metrics import confusion_matrix, ConfusionMatrixDisplay\n",
    "import matplotlib.pyplot as plt\n",
    "\n",
    "# using the optimal configuration from all previous hyperparameter testing\n",
    "count_vect = CountVectorizer(ngram_range=(1, 2), min_df=0.0, max_df=0.4)\n",
    "X_train, X_test, y_train, y_test = train_test_split(X, y, test_size=0.2, random_state=42)\n",
    "X = do_vectorization_transformation(count_vect, pp_reviews)\n",
    "\n",
    "clf = LinearSVC(random_state=42, dual='auto', max_iter=1000, C=1)\n",
    "clf.fit(X_train, y_train)\n",
    "y_pred = clf.predict(X_train)\n",
    "print(\"training accuracy with optimal configuration with each individual preprocessing hyperparameter: \" + str(accuracy_score(y_train, y_pred)))\n",
    "cm = confusion_matrix(y_train, y_pred, labels=clf.classes_)\n",
    "cm_plot = ConfusionMatrixDisplay(confusion_matrix=cm, display_labels=clf.classes_)\n",
    "cm_plot.plot()\n",
    "plt.title(\"Training Set Confusion Matrix\")\n",
    "plt.show()\n",
    "\n",
    "clf = LinearSVC(random_state=42, dual='auto', max_iter=1000, C=1)\n",
    "clf.fit(X_train, y_train)\n",
    "y_pred = clf.predict(X_test)\n",
    "print(\"testing accuracy with optimal configuration with each individual preprocessing hyperparameter: \" + str(accuracy_score(y_test, y_pred)))\n",
    "cm = confusion_matrix(y_test, y_pred, labels=clf.classes_)\n",
    "cm_plot = ConfusionMatrixDisplay(confusion_matrix=cm, display_labels=clf.classes_)\n",
    "cm_plot.plot()\n",
    "plt.title(\"Testing Set Confusion Matrix\")\n",
    "plt.show()"
   ]
  },
  {
   "cell_type": "markdown",
   "metadata": {},
   "source": [
    "## Model Training ##\n",
    "\n",
    "Will need to have consideration of how we measure performance (it likely isn't pure accuracy. Precision? Recall?)"
   ]
  },
  {
   "cell_type": "code",
   "execution_count": 10,
   "metadata": {},
   "outputs": [
    {
     "name": "stdout",
     "output_type": "stream",
     "text": [
      "[[6606 1161]\n",
      " [ 968 6715]]\n",
      "0.862200647249191\n"
     ]
    }
   ],
   "source": [
    "from sklearn.metrics import confusion_matrix\n",
    "\n",
    "count_vect = CountVectorizer(ngram_range=(1, 2))\n",
    "X = do_vectorization_transformation(count_vect, pp_reviews)\n",
    "\n",
    "X_train, X_test, y_train, y_test = train_test_split(X, y, test_size=0.2, random_state=42)\n",
    "# X_train, X_val, y_train, y_val = train_test_split(X_train, y_train, test_size=0.25, random_state=42)\n",
    "\n",
    "sgd_classifier = SGDClassifier(random_state=42)\n",
    "sgd_classifier.fit(X_train, y_train)\n",
    "y_pred = sgd_classifier.predict(X_test)\n",
    "print(confusion_matrix(y_test, y_pred))\n",
    "print(get_testing_accuracy(X, y))"
   ]
  },
  {
   "cell_type": "code",
   "execution_count": 48,
   "metadata": {},
   "outputs": [
    {
     "name": "stdout",
     "output_type": "stream",
     "text": [
      "[[3321  505]\n",
      " [ 408 3485]]\n",
      "0.8817204301075269\n"
     ]
    }
   ],
   "source": [
    "from sklearn.svm import LinearSVC\n",
    "X_subtrain, X_val, y_subtrain, y_val = train_test_split(X_train, y_train, test_size=0.125, random_state=123)\n",
    "clf = LinearSVC(random_state=42, dual='auto')\n",
    "clf.fit(X_subtrain, y_subtrain)\n",
    "y_pred = clf.predict(X_val)\n",
    "print(confusion_matrix(y_val, y_pred))\n",
    "print(accuracy_score(y_val, y_pred))"
   ]
  },
  {
   "cell_type": "code",
   "execution_count": null,
   "metadata": {},
   "outputs": [
    {
     "name": "stdout",
     "output_type": "stream",
     "text": [
      "1000 0.01 0.8449194891726819\n",
      "1000 0.1 0.9365907828983898\n",
      "1000 1 0.996446418656302\n",
      "1000 10 0.9977419951878586\n",
      "1000 100 0.9977605034240237\n",
      "1000 1000 0.9977234869516936\n",
      "10000 0.01 0.8449194891726819\n",
      "10000 0.1 0.9365907828983898\n",
      "10000 1 0.996446418656302\n",
      "10000 10 0.9977419951878586\n",
      "10000 100 0.9977605034240237\n",
      "10000 1000 0.9977605034240237\n",
      "100000 0.01 0.8449194891726819\n",
      "100000 0.1 0.9365907828983898\n",
      "100000 1 0.996446418656302\n",
      "100000 10 0.9977419951878586\n",
      "100000 100 0.9977605034240237\n"
     ]
    }
   ],
   "source": []
  },
  {
   "cell_type": "raw",
   "metadata": {},
   "source": [
    "1000 0.01 0.8449194891726819\n",
    "1000 0.1 0.9365907828983898\n",
    "1000 1 0.996446418656302\n",
    "1000 10 0.9977419951878586\n",
    "1000 100 0.9977605034240237\n",
    "1000 1000 0.9977234869516936\n",
    "10000 0.01 0.8449194891726819\n",
    "10000 0.1 0.9365907828983898\n",
    "10000 1 0.996446418656302\n",
    "10000 10 0.9977419951878586\n",
    "10000 100 0.9977605034240237\n",
    "10000 1000 0.9977605034240237\n",
    "100000 0.01 0.8449194891726819\n",
    "100000 0.1 0.9365907828983898\n",
    "100000 1 0.996446418656302\n",
    "100000 10 0.9977419951878586\n",
    "100000 100 0.9977605034240237"
   ]
  },
  {
   "cell_type": "markdown",
   "metadata": {},
   "source": [
    "# Decision Tree"
   ]
  },
  {
   "cell_type": "code",
   "execution_count": 11,
   "metadata": {},
   "outputs": [
    {
     "name": "stdout",
     "output_type": "stream",
     "text": [
      "[[2703 1168]\n",
      " [1037 2817]]\n",
      "0.7145631067961165\n"
     ]
    }
   ],
   "source": [
    "from sklearn import tree\n",
    "\n",
    "X_subtrain, X_val, y_subtrain, y_val = train_test_split(X_train, y_train, test_size=0.125, random_state=123)\n",
    "clf = tree.DecisionTreeClassifier(criterion=\"entropy\")\n",
    "clf.fit(X_subtrain, y_subtrain)\n",
    "y_pred = clf.predict(X_val)\n",
    "print(confusion_matrix(y_val, y_pred))\n",
    "print(accuracy_score(y_val, y_pred))"
   ]
  },
  {
   "cell_type": "markdown",
   "metadata": {},
   "source": [
    "# K-Nearest"
   ]
  },
  {
   "cell_type": "code",
   "execution_count": 13,
   "metadata": {},
   "outputs": [
    {
     "name": "stdout",
     "output_type": "stream",
     "text": [
      "[[  92 3779]\n",
      " [   8 3846]]\n",
      "0.5097734627831715\n"
     ]
    }
   ],
   "source": [
    "from sklearn.neighbors import KNeighborsClassifier\n",
    "X_subtrain, X_val, y_subtrain, y_val = train_test_split(X_train, y_train, test_size=0.125, random_state=123)\n",
    "clf = KNeighborsClassifier()\n",
    "clf.fit(X_subtrain, y_subtrain)\n",
    "y_pred = clf.predict(X_val)\n",
    "print(confusion_matrix(y_val, y_pred))\n",
    "print(accuracy_score(y_val, y_pred))"
   ]
  },
  {
   "cell_type": "markdown",
   "metadata": {},
   "source": [
    "# SGD Classifier"
   ]
  },
  {
   "cell_type": "code",
   "execution_count": 14,
   "metadata": {},
   "outputs": [
    {
     "name": "stdout",
     "output_type": "stream",
     "text": [
      "[[3250  621]\n",
      " [ 454 3400]]\n",
      "0.86084142394822\n"
     ]
    }
   ],
   "source": [
    "from sklearn.neighbors import KNeighborsClassifier\n",
    "X_subtrain, X_val, y_subtrain, y_val = train_test_split(X_train, y_train, test_size=0.125, random_state=123)\n",
    "clf = SGDClassifier(random_state=42)\n",
    "clf.fit(X_subtrain, y_subtrain)\n",
    "y_pred = clf.predict(X_val)\n",
    "print(confusion_matrix(y_val, y_pred))\n",
    "print(accuracy_score(y_val, y_pred))"
   ]
  },
  {
   "cell_type": "markdown",
   "metadata": {},
   "source": [
    "# Linear SVC"
   ]
  },
  {
   "cell_type": "code",
   "execution_count": 15,
   "metadata": {},
   "outputs": [
    {
     "name": "stdout",
     "output_type": "stream",
     "text": [
      "[[3362  509]\n",
      " [ 423 3431]]\n",
      "0.8793527508090615\n"
     ]
    }
   ],
   "source": [
    "from sklearn.svm import LinearSVC\n",
    "X_subtrain, X_val, y_subtrain, y_val = train_test_split(X_train, y_train, test_size=0.125, random_state=123)\n",
    "clf = LinearSVC(random_state=42, dual='auto')\n",
    "clf.fit(X_subtrain, y_subtrain)\n",
    "y_pred = clf.predict(X_val)\n",
    "print(confusion_matrix(y_val, y_pred))\n",
    "print(accuracy_score(y_val, y_pred))"
   ]
  },
  {
   "cell_type": "markdown",
   "metadata": {},
   "source": [
    "# MLP Classifier"
   ]
  },
  {
   "cell_type": "code",
   "execution_count": 18,
   "metadata": {},
   "outputs": [
    {
     "name": "stdout",
     "output_type": "stream",
     "text": [
      "[[3487  384]\n",
      " [ 675 3179]]\n",
      "0.8629126213592233\n"
     ]
    }
   ],
   "source": [
    "from sklearn.neural_network import MLPClassifier\n",
    "X_subtrain, X_val, y_subtrain, y_val = train_test_split(X_train, y_train, test_size=0.125, random_state=123)\n",
    "clf = MLPClassifier(activation=\"tanh\", solver=\"sgd\",\n",
    "                            hidden_layer_sizes=(1, 1000), learning_rate_init=0.1)\n",
    "clf.fit(X_subtrain, y_subtrain)\n",
    "y_pred = clf.predict(X_val)\n",
    "print(confusion_matrix(y_val, y_pred))\n",
    "print(accuracy_score(y_val, y_pred))"
   ]
  },
  {
   "cell_type": "markdown",
   "metadata": {},
   "source": [
    "# Hyperperameters"
   ]
  },
  {
   "cell_type": "code",
   "execution_count": 20,
   "metadata": {},
   "outputs": [
    {
     "name": "stdout",
     "output_type": "stream",
     "text": [
      "1000 0.01 0.8245954692556634\n",
      "1000 0.1 0.8709385113268608\n",
      "1000 1 0.8793527508090615\n",
      "1000 10 0.8772815533980582\n",
      "1000 100 0.8717152103559871\n",
      "1000 1000 0.8714563106796116\n",
      "10000 0.01 0.8245954692556634\n",
      "10000 0.1 0.8709385113268608\n",
      "10000 1 0.8793527508090615\n",
      "10000 10 0.8772815533980582\n",
      "10000 100 0.8714563106796116\n",
      "10000 1000 0.8709385113268608\n"
     ]
    }
   ],
   "source": [
    "import warnings\n",
    "warnings.filterwarnings(\"ignore\")\n",
    "\n",
    "X_subtrain, X_val, y_subtrain, y_val = train_test_split(X_train, y_train, test_size=0.125, random_state=123)\n",
    "\n",
    "for max_iter_i in [1000, 10000]:\n",
    "    for C_i in [0.01, 0.1, 1, 10, 100, 1000]:\n",
    "        clf = LinearSVC(max_iter=max_iter_i, C=C_i)\n",
    "        clf.fit(X_subtrain, y_subtrain)\n",
    "        y_pred = clf.predict(X_val)\n",
    "        score = accuracy_score(y_val, y_pred)\n",
    "        print(max_iter_i, C_i, score)"
   ]
  },
  {
   "cell_type": "code",
   "execution_count": null,
   "metadata": {},
   "outputs": [
    {
     "name": "stdout",
     "output_type": "stream",
     "text": [
      "100000 0.01 0.8245954692556634\n",
      "100000 0.1 0.8709385113268608\n",
      "100000 1 0.8793527508090615\n",
      "100000 10 0.8772815533980582\n",
      "100000 100 0.8714563106796116\n"
     ]
    }
   ],
   "source": [
    "for max_iter_i in [100000, 1000000]:\n",
    "    for C_i in [0.01, 0.1, 1, 10, 100, 1000]:\n",
    "        clf = LinearSVC(max_iter=max_iter_i, C=C_i)\n",
    "        clf.fit(X_subtrain, y_subtrain)\n",
    "        y_pred = clf.predict(X_val)\n",
    "        score = accuracy_score(y_val, y_pred)\n",
    "        print(max_iter_i, C_i, score)"
   ]
  },
  {
   "cell_type": "code",
   "execution_count": null,
   "metadata": {},
   "outputs": [],
   "source": []
  }
 ],
 "metadata": {
  "kernelspec": {
   "display_name": "Python 3 (ipykernel)",
   "language": "python",
   "name": "python3"
  },
  "language_info": {
   "codemirror_mode": {
    "name": "ipython",
    "version": 3
   },
   "file_extension": ".py",
   "mimetype": "text/x-python",
   "name": "python",
   "nbconvert_exporter": "python",
   "pygments_lexer": "ipython3",
   "version": "3.10.11"
  }
 },
 "nbformat": 4,
 "nbformat_minor": 4
}
