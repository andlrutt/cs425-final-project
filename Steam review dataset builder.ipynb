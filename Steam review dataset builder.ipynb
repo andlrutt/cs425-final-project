{
 "cells": [
  {
   "cell_type": "markdown",
   "id": "640f72a7",
   "metadata": {},
   "source": [
    "# Load appids"
   ]
  },
  {
   "cell_type": "code",
   "execution_count": 19,
   "id": "91e9ca72",
   "metadata": {},
   "outputs": [],
   "source": [
    "import requests\n",
    "import random\n",
    "import numpy as np\n",
    "import urllib.request\n",
    "import pandas as pd\n",
    "import json\n",
    "import string\n",
    "\n",
    "response = requests.get('https://api.steampowered.com/ISteamApps/GetAppList/v2/')\n",
    "\n",
    "apps = response.json()['applist']['apps']\n",
    "\n",
    "# filter blank/non-english names\n",
    "apps = [x for x in apps if x['name'] != '' and x['name'].isascii()]\n",
    "\n",
    "rand_indices = random.sample(range(len(apps)-1), len(apps)-2)"
   ]
  },
  {
   "cell_type": "markdown",
   "id": "febaa81c",
   "metadata": {},
   "source": [
    "# ---NEW---"
   ]
  },
  {
   "cell_type": "code",
   "execution_count": null,
   "id": "e28bf2fa",
   "metadata": {},
   "outputs": [],
   "source": [
    "for i in range(0, 100000):\n",
    "    try:\n",
    "        df = pd.DataFrame(columns=[\"language\", \"review\", \"voted_up\", \"votes_up\", \"votes_funny\", \"weighted_vote_score\", \"comment_count\", \"steam_purchase\", \"received_for_free\", \"written_during_early_access\"])\n",
    "        app_id = apps[rand_indices[i]]['appid']\n",
    "        app_name = apps[rand_indices[i]]['name']\n",
    "        \n",
    "        # ALL WITHIN FOR LOOP OF APPIDS\n",
    "        with urllib.request.urlopen(\"http://store.steampowered.com/appreviews/\"+str(app_id)+\"?json=1\") as url:\n",
    "            d = json.load(url)\n",
    "            url.close()\n",
    "    \n",
    "    \n",
    "        total_reviews = d[\"query_summary\"][\"total_reviews\"]\n",
    "        total_adjust = total_reviews-total_reviews%100\n",
    "    \n",
    "        desired_iter = 100\n",
    "    \n",
    "        if total_adjust > desired_iter*100:\n",
    "            max_iter = desired_iter\n",
    "        else:\n",
    "            max_iter = int(total_adjust/100)\n",
    "    \n",
    "        cursors = []\n",
    "        cursorURL = \"\"\n",
    "        cursor = \"\"\n",
    "    \n",
    "        \n",
    "        if max_iter == 0:\n",
    "            continue\n",
    "    \n",
    "        for j in range(0, max_iter):\n",
    "            if cursor:\n",
    "                cursorURL = \"&cursor=\"+cursor\n",
    "    \n",
    "            with urllib.request.urlopen(\"http://store.steampowered.com/appreviews/\"+str(app_id)+\"?json=1&num_per_page=100\"+cursorURL) as url:\n",
    "                d = json.load(url)\n",
    "                url.close()\n",
    "    \n",
    "                if \"cursor\" in d.keys():\n",
    "                    cursor = urllib.parse.quote(d[\"cursor\"])\n",
    "                else:\n",
    "                    break\n",
    "    \n",
    "                cursors.append(cursorURL)\n",
    "    \n",
    "        cursors = np.unique(cursors)\n",
    "    \n",
    "        for j in cursors:\n",
    "            with urllib.request.urlopen(\"http://store.steampowered.com/appreviews/\"+str(app_id)+\"?json=1&num_per_page=100\"+j) as url:\n",
    "                d = json.load(url)\n",
    "                url.close()\n",
    "    \n",
    "            for k in d[\"reviews\"]:\n",
    "                df.loc[len(df)] = [k[\"language\"], k[\"review\"], k[\"voted_up\"], k[\"votes_up\"], k[\"votes_funny\"], k[\"weighted_vote_score\"], k[\"comment_count\"], k[\"steam_purchase\"], k[\"received_for_free\"], k[\"written_during_early_access\"]]\n",
    "    \n",
    "        df = df.drop_duplicates()\n",
    "        df.to_csv(f\"data/{app_name.translate(str.maketrans('', '', string.punctuation))}.csv\", index=False)\n",
    "    except:\n",
    "        continue\n",
    "\n"
   ]
  }
 ],
 "metadata": {
  "kernelspec": {
   "display_name": "Python 3 (ipykernel)",
   "language": "python",
   "name": "python3"
  },
  "language_info": {
   "codemirror_mode": {
    "name": "ipython",
    "version": 3
   },
   "file_extension": ".py",
   "mimetype": "text/x-python",
   "name": "python",
   "nbconvert_exporter": "python",
   "pygments_lexer": "ipython3",
   "version": "3.10.11"
  }
 },
 "nbformat": 4,
 "nbformat_minor": 5
}
