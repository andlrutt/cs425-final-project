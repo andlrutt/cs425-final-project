{
 "cells": [
  {
   "cell_type": "code",
   "execution_count": 14,
   "id": "6231c215-346c-488c-af7f-2fb458d75e85",
   "metadata": {},
   "outputs": [
    {
     "name": "stdout",
     "output_type": "stream",
     "text": [
      "5109 games\n",
      "                                               review voted_up\n",
      "0   making positive reviews for hentai games recom...      1.0\n",
      "1                                      Good arts 9/10      1.0\n",
      "0   A simple game inspired from Girls' Frontline, ...     True\n",
      "1   I am broken and cannot be fixed, thank you for...     True\n",
      "2   The premise is fine and the art is nice, but i...    False\n",
      "..                                                ...      ...\n",
      "1   Here I will leave the cat, friends who pass by...     True\n",
      "2   ZUP!X\\n⣀⣠⣤⣤⣤⣤⢤⣤⣄⣀⣀⣀⣀⡀⡀⠄⠄⠄⠄⠄⠄⠄⠄⠄⠄⠄\\n⠄⠉⠹⣾⣿⣛⣿⣿⣞⣿⣛...     True\n",
      "0                                      legendary game     True\n",
      "1   [h2]Zup Series: Achievements for Steam Design ...     True\n",
      "2             Minimal physical puzzle with explosions     True\n",
      "\n",
      "[162051 rows x 2 columns]\n"
     ]
    }
   ],
   "source": [
    "import pandas as pd\n",
    "import os\n",
    "\n",
    "# When \"Steam review dataset builder.ipynb\" runs, it creates one mini dataset for every game. This script combines those into one large dataset (data.csv)\n",
    "\n",
    "cum_df = pd.DataFrame({'review': [], 'voted_up': []})\n",
    "\n",
    "files = os.listdir(\"data\")\n",
    "print(f'{len(files)} games')\n",
    "for file_name in files:\n",
    "    df = pd.read_csv(f'data/{file_name}')\n",
    "    df = df[['review', 'voted_up']]\n",
    "    cum_df = pd.concat([cum_df, df])\n",
    "print(cum_df)\n",
    "\n",
    "cum_df.to_csv(f\"data.csv\", index=False)"
   ]
  }
 ],
 "metadata": {
  "kernelspec": {
   "display_name": "Python 3 (ipykernel)",
   "language": "python",
   "name": "python3"
  },
  "language_info": {
   "codemirror_mode": {
    "name": "ipython",
    "version": 3
   },
   "file_extension": ".py",
   "mimetype": "text/x-python",
   "name": "python",
   "nbconvert_exporter": "python",
   "pygments_lexer": "ipython3",
   "version": "3.10.11"
  }
 },
 "nbformat": 4,
 "nbformat_minor": 5
}
