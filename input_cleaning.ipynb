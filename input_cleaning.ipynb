{
 "cells": [
  {
   "cell_type": "code",
   "execution_count": 8,
   "metadata": {},
   "outputs": [
    {
     "name": "stderr",
     "output_type": "stream",
     "text": [
      "[nltk_data] Downloading package wordnet to\n",
      "[nltk_data]     C:\\Users\\andre\\AppData\\Roaming\\nltk_data...\n",
      "[nltk_data]   Package wordnet is already up-to-date!\n",
      "[nltk_data] Downloading package averaged_perceptron_tagger to\n",
      "[nltk_data]     C:\\Users\\andre\\AppData\\Roaming\\nltk_data...\n",
      "[nltk_data]   Package averaged_perceptron_tagger is already up-to-\n",
      "[nltk_data]       date!\n"
     ]
    }
   ],
   "source": [
    "from nltk.stem import WordNetLemmatizer\n",
    "from nltk import pos_tag\n",
    "import nltk\n",
    "\n",
    "nltk.download('wordnet')\n",
    "nltk.download('averaged_perceptron_tagger')\n",
    "review = \"Please note that this is purely my experience of the game during the stupid hours I have sunk into it. I won't be completely critical of the game and I'll give credit to a couple of things, most notably the gameplay. I like the animations and the motion of the players, they are fun to control. I play on normal gameplay speed and it feels great. Players are responsive and it is very fun trying to keep shape defensively (especially against ultimate difficulty) but with practice, you get there. Attacking is satisfying too, I like the different dribbling styles, although R1 dribbling at the time of this review is a little overpowered, but even still, I am happy that it's possible to dribble past players in this year's game and score some lovely solo goals. I play purely offline, as where I am currently located I just cannot get a good enough connection to have any kind of online experience. HOWEVER - despite EA releasing updates, not one of them has combated the biggest issue myself and many MANY others face, which is the abhorrent optimisation which is leading to stutters and for some, lag and game crashes. I would not want to know how many of those hours I have spent trialling fixes and it is the first time in my gaming experience to encounter a game that just won't play. Sometimes a workaround will fix things temporarily, but upon the next launch, it just doesn't work again. This to me is unacceptable. They are aware of the problem, yet nothing has changed now for well over a month of it being released. The hell I've been through to sort it should never be required to play any game. I paid £80, but I feel like EA owe me a year's salary for the amount of work I've done on their game for them. Crooks. Stutters in these kinds of games destroy any pleasurable experience you can get from it. Imagine playing an F1 game, but before every corner it stutters for 3 seconds and when it fixes itself, you've crashed into an entire neighbouring village and caused £500 million worth of damage, you'd say 'Forget it' and toss it in the bin. The same goes for football games. You need precision and reactions because timing is important. You can't do that with 3-second stutters intermittently during a match. How can nobody have seen this? I feel like Mugatu from Zoolander. It was a new era for the franchise, a fresh start, so I allowed myself to believe that things may be different, but it just isn't the case for any of the offline modes. If you think adding cut scenes of players winning the Balon d'Or (where nobody even speaks other than some announcer, which freaks me out) and an open-top bus parade of trophies you've won (which is cool the first time, but it is the same every single time after) then you don't understand why we play football games - WE WANT TO PLAY, NOT SIT THERE AND WATCH SILENT MOVIES. Is this their attempt at making it more immersive? Disaster. True, some promising ideas were introduced, like tactical vision and hiring coaches in manager mode, but here's the thing - that was bugged when it was released. Imagine working on a new feature, but for it not to work properly. What I mean is, that you can't fire coaches, you'll lock the game and have no chance to back out. I actually hope it doesn't get patched, because it doesn't matter, it tells us what we already know - they don't care. It's a shame because I think that if they'd just put more effort into it, this could've been a really good game. The foundation is there with the gameplay, and that's the heart of any good football game. But why not just stop being a bunch of fraggles and develop your offline game modes more? The amount of work they put into 'create a team' for example, which was just uninspiring, is what I am talking about. Put that work into actually making a comprehensive, immersive career mode. 'Create a team' was fantastic in the F1 game, it works in that circumstance, but for a manager mode on a football game? It isn't what we want. For those who can't be bothered to read all that: you'll feel just like Mugatu from Zoolander - It really is the same face.\"\n",
    "# review = 'MWIII is the worst campaign of all time. 14 short missions and half are just spec ops missions from MWII, dropping you in a section of the warzone map and giving you objectives. It was like a warzone tutorial. The story is also far less than adequate. This seems like it should have been a DLC for MWII . I have never been more upset with a game. The multiplayer needs to be phenomenal for this game to be worth buying at all.'"
   ]
  },
  {
   "cell_type": "markdown",
   "metadata": {},
   "source": [
    "### Tokenization ###\n",
    "Remove punctuation, convert to lowercase, remove numbers, and convert review text to an array of strings."
   ]
  },
  {
   "cell_type": "code",
   "execution_count": 2,
   "metadata": {},
   "outputs": [
    {
     "name": "stdout",
     "output_type": "stream",
     "text": [
      "748\n",
      "747\n"
     ]
    }
   ],
   "source": [
    "from string import punctuation\n",
    "import re\n",
    "\n",
    "# removes punctuation\n",
    "punc_match = '[' + punctuation + ']'\n",
    "review = re.sub(punc_match, '', review)\n",
    "review_arr = review.lower().split(' ')\n",
    "print(len(review_arr))\n",
    "\n",
    "# filters numbers\n",
    "review_arr = list(filter(lambda x: not x.isdigit(), review_arr))\n",
    "\n",
    "print(len(review_arr))"
   ]
  },
  {
   "cell_type": "markdown",
   "metadata": {},
   "source": [
    "### Remove stop words ###\n",
    "Removes words and articles like \"and,\" \"the,\" etc. that have no relation to sentiment"
   ]
  },
  {
   "cell_type": "code",
   "execution_count": 3,
   "metadata": {},
   "outputs": [
    {
     "name": "stdout",
     "output_type": "stream",
     "text": [
      "358\n"
     ]
    }
   ],
   "source": [
    "# taken from NLTK stopword set, stripped of punctuation\n",
    "stopwords = ['i', 'me', 'my', 'myself', 'we', 'our', 'ours', 'ourselves', 'you', 'youre', 'youve', 'youll', 'youd', 'your', 'yours', 'yourself', 'yourselves', 'he', 'him', 'his', 'himself', 'she', 'shes', 'her', 'hers', 'herself', 'it', 'its', 'its', 'itself', 'they', 'them', 'their', 'theirs', 'themselves', 'what', 'which', 'who', 'whom', 'this', 'that', 'thatll', 'these', 'those', 'am', 'is', 'are', 'was', 'were', 'be', 'been', 'being', 'have', 'has', 'had', 'having', 'do', 'does', 'did', 'doing', 'a', 'an', 'the', 'and', 'but', 'if', 'or', 'because', 'as', 'until', 'while', 'of', 'at', 'by', 'for', 'with', 'about', 'against', 'between', 'into', 'through', 'during', 'before', 'after', 'above', 'below', 'to', 'from', 'up', 'down', 'in', 'out', 'on', 'off', 'over', 'under', 'again', 'further', 'then', 'once', 'here', 'there', 'when', 'where', 'why', 'how', 'all', 'any', 'both', 'each', 'few', 'more', 'most', 'other', 'some', 'such', 'no', 'nor', 'not', 'only', 'own', 'same', 'so', 'than', 'too', 'very', 's', 't', 'can', 'will', 'just', 'don', 'dont', 'should', 'shouldve', 'now', 'd', 'll', 'm', 'o', 're', 've', 'y', 'ain', 'aren', 'arent', 'couldn', 'couldnt', 'didn', 'didnt', 'doesn', 'doesnt', 'hadn', 'hadnt', 'hasn', 'hasnt', 'haven', 'havent', 'isn', 'isnt', 'ma', 'mightn', 'mightnt', 'mustn', 'mustnt', 'needn', 'neednt', 'shan', 'shant', 'shouldn', 'shouldnt', 'wasn', 'wasnt', 'weren', 'werent', 'won', 'wont', 'wouldn', 'wouldnt']\n",
    "review_arr = [x for x in review_arr if x not in stopwords]\n",
    "print(len(review_arr))"
   ]
  },
  {
   "cell_type": "markdown",
   "metadata": {},
   "source": [
    "### Normalize words ###\n",
    "Convert nouns down to their root form (ex. \"played\" and \"playing\" are equivalent to \"play\". Also begins sentiment analysis by converting a word like 'better' to 'good')"
   ]
  },
  {
   "cell_type": "code",
   "execution_count": 10,
   "metadata": {},
   "outputs": [],
   "source": [
    "def get_pos(tag):\n",
    "    if tag.startswith('V'):\n",
    "        return 'v'  # Verb\n",
    "    elif tag.startswith('R'):\n",
    "        return 'r'  # Adverb\n",
    "    elif tag.startswith('J'):\n",
    "        return 'a'  # Adjective\n",
    "    else:\n",
    "        return 'n'  # Noun (Default)\n",
    "\n",
    "l = WordNetLemmatizer()\n",
    "review_pos = pos_tag(review_arr)\n",
    "\n",
    "review_normalized = [l.lemmatize(x[0], get_pos(x[1])) for x in review_pos]\n",
    "\n",
    "# FOR TESTING -- this prints out all the changed words between review_arr and review_normalized\n",
    "# for i in range(0, len(review_arr)):\n",
    "#     if review_normalized[i] != review_arr[i]:\n",
    "#         print(review_arr[i] + \" --> \" + review_normalized[i])"
   ]
  },
  {
   "cell_type": "markdown",
   "metadata": {},
   "source": [
    "### Get word frequencies ###"
   ]
  },
  {
   "cell_type": "code",
   "execution_count": 13,
   "metadata": {},
   "outputs": [
    {
     "name": "stdout",
     "output_type": "stream",
     "text": [
      "{'best': 1, 'please': 1, 'note': 1, 'purely': 2, 'experience': 4, 'game': 18, 'stupid': 1, 'hour': 2, 'sink': 1, 'completely': 1, 'critical': 1, 'ill': 1, 'give': 1, 'credit': 1, 'couple': 1, 'thing': 4, 'notably': 1, 'gameplay': 3, 'like': 6, 'animation': 1, 'motion': 1, 'player': 4, 'fun': 2, 'control': 1, 'play': 6, 'normal': 1, 'speed': 1, 'feel': 4, 'great': 1, 'responsive': 1, 'try': 1, 'keep': 1, 'shape': 1, 'defensively': 1, 'especially': 1, 'ultimate': 1, 'difficulty': 1, 'practice': 1, 'get': 4, 'attack': 1, 'satisfy': 1, 'different': 2, 'dribble': 3, 'style': 1, 'although': 1, 'r1': 1, 'time': 5, 'review': 1, 'little': 1, 'overpower': 1, 'even': 2, 'still': 1, 'happy': 1, 'possible': 1, 'past': 1, 'year': 2, 'score': 1, 'lovely': 1, 'solo': 1, 'goal': 1, 'offline': 3, 'currently': 1, 'locate': 1, 'cannot': 1, 'good': 3, 'enough': 1, 'connection': 1, 'kind': 2, 'online': 1, 'however': 1, '': 5, 'despite': 1, 'ea': 2, 'release': 3, 'updates': 1, 'one': 1, 'combat': 1, 'big': 1, 'issue': 1, 'many': 3, 'others': 1, 'face': 2, 'abhorrent': 1, 'optimisation': 1, 'lead': 1, 'stutter': 4, 'lag': 1, 'crash': 2, 'would': 1, 'want': 3, 'know': 2, 'spend': 1, 'trialling': 1, 'fix': 3, 'first': 2, 'encounter': 1, 'sometimes': 1, 'workaround': 1, 'temporarily': 1, 'upon': 1, 'next': 1, 'launch': 1, 'work': 7, 'unacceptable': 1, 'aware': 1, 'problem': 1, 'yet': 1, 'nothing': 1, 'change': 1, 'well': 1, 'month': 1, 'hell': 1, 'ive': 2, 'sort': 1, 'never': 1, 'require': 1, 'pay': 1, '£80': 1, 'owe': 1, 'salary': 1, 'amount': 2, 'do': 1, 'crook': 1, 'destroy': 1, 'pleasurable': 1, 'imagine': 2, 'playing': 1, 'f1': 2, 'every': 2, 'corner': 1, 'second': 1, 'entire': 1, 'neighbouring': 1, 'village': 1, 'cause': 1, '£500': 1, 'million': 1, 'worth': 1, 'damage': 1, 'say': 1, 'forget': 1, 'toss': 1, 'bin': 1, 'go': 1, 'football': 4, 'need': 1, 'precision': 1, 'reaction': 1, 'important': 1, 'cant': 3, '3second': 1, 'intermittently': 1, 'match': 1, 'nobody': 2, 'see': 1, 'mugatu': 2, 'zoolander': 2, 'new': 2, 'era': 1, 'franchise': 1, 'fresh': 1, 'start': 1, 'allow': 1, 'believe': 1, 'may': 1, 'case': 1, 'mode': 5, 'think': 2, 'add': 1, 'cut': 1, 'scene': 1, 'win': 1, 'balon': 1, 'dor': 1, 'speak': 1, 'announcer': 1, 'freak': 1, 'opentop': 1, 'bus': 1, 'parade': 1, 'trophy': 1, 'cool': 1, 'single': 1, 'understand': 1, 'sit': 1, 'watch': 1, 'silent': 1, 'movie': 1, 'attempt': 1, 'make': 2, 'immersive': 2, 'disaster': 1, 'true': 1, 'promising': 1, 'idea': 1, 'introduce': 1, 'tactical': 1, 'vision': 1, 'hire': 1, 'coach': 2, 'manager': 2, 'heres': 1, 'bug': 1, 'feature': 1, 'properly': 1, 'mean': 1, 'fire': 1, 'lock': 1, 'chance': 1, 'back': 1, 'actually': 2, 'hope': 1, 'patched': 1, 'matter': 1, 'tell': 1, 'u': 1, 'already': 1, 'care': 1, 'shame': 1, 'theyd': 1, 'put': 3, 'effort': 1, 'couldve': 1, 'really': 2, 'foundation': 1, 'thats': 1, 'heart': 1, 'stop': 1, 'bunch': 1, 'fraggles': 1, 'develop': 1, 'create': 2, 'team': 2, 'example': 1, 'uninspiring': 1, 'talk': 1, 'comprehensive': 1, 'career': 1, 'fantastic': 1, 'circumstance': 1, 'bother': 1, 'read': 1}\n"
     ]
    }
   ],
   "source": [
    "word_freqs = {}\n",
    "for word in review_normalized:\n",
    "    word_freqs[word] = word_freqs.get(word, 0) + 1\n",
    "word_fr\n",
    "print(word_freqs)"
   ]
  }
 ],
 "metadata": {
  "kernelspec": {
   "display_name": "Python 3 (ipykernel)",
   "language": "python",
   "name": "python3"
  },
  "language_info": {
   "codemirror_mode": {
    "name": "ipython",
    "version": 3
   },
   "file_extension": ".py",
   "mimetype": "text/x-python",
   "name": "python",
   "nbconvert_exporter": "python",
   "pygments_lexer": "ipython3",
   "version": "3.10.11"
  }
 },
 "nbformat": 4,
 "nbformat_minor": 4
}
